{
 "cells": [
  {
   "cell_type": "markdown",
   "id": "003c28b4",
   "metadata": {},
   "source": [
    "### _**Name: Hafiza Fatima Sabir**_\n",
    "### _**Roll no: SU92-BSAI-F24-116**_\n",
    "### _**Lab task - 05**_"
   ]
  },
  {
   "cell_type": "markdown",
   "id": "b287152c",
   "metadata": {},
   "source": [
    "_**1. DFS with Stack**_"
   ]
  },
  {
   "cell_type": "code",
   "execution_count": null,
   "id": "644d034f",
   "metadata": {},
   "outputs": [
    {
     "name": "stdout",
     "output_type": "stream",
     "text": [
      "DFS Traversal (Stack):\n",
      "A B D E F C "
     ]
    }
   ],
   "source": [
    "def dfs_stack(myGraph, startPoint):\n",
    "    seen = []            \n",
    "    st = [startPoint]    \n",
    "\n",
    "    while st:\n",
    "        currNode = st.pop()   \n",
    "        if currNode not in seen:\n",
    "            print(currNode, end=\" \")\n",
    "            seen.append(currNode)\n",
    "            for i in reversed(myGraph[currNode]):\n",
    "                if i not in seen:\n",
    "                    st.append(i)\n",
    "                    \n",
    "Graph = {\n",
    "    'A': ['B', 'C'],\n",
    "    'B': ['D', 'E'],\n",
    "    'C': ['F'],\n",
    "    'D': [],\n",
    "    'E': ['F'],\n",
    "    'F': []\n",
    "}\n",
    "\n",
    "print(\"DFS Traversal (Stack):\")\n",
    "dfs_stack(Graph, 'A')\n"
   ]
  },
  {
   "cell_type": "markdown",
   "id": "a18166a8",
   "metadata": {},
   "source": [
    "**_2. Research about \"Inorder, Preorder, Postorder\" and implement in DFS._**"
   ]
  },
  {
   "cell_type": "code",
   "execution_count": null,
   "id": "2f14d31a",
   "metadata": {},
   "outputs": [
    {
     "name": "stdout",
     "output_type": "stream",
     "text": [
      "PreOrder Traversal:\n",
      "A B D E C F \n",
      "InOrder Traversal:\n",
      "D B E A C F \n",
      "PostOrder Traversal:\n",
      "D E B F C A "
     ]
    }
   ],
   "source": [
    "class Tree:\n",
    "    def __init__(self, value):\n",
    "        self.value = value\n",
    "        self.left = None\n",
    "        self.right = None\n",
    "\n",
    "def preorder_itr(root):\n",
    "    if root is None:\n",
    "        return\n",
    "    stack = [root]\n",
    "    while stack:\n",
    "        node = stack.pop()\n",
    "        print(node.value, end=\" \")\n",
    "        if node.right:  \n",
    "            stack.append(node.right)\n",
    "        if node.left:\n",
    "            stack.append(node.left)\n",
    "\n",
    "def inorder_itr(root):\n",
    "    stack = []\n",
    "    current = root\n",
    "    while stack or current:\n",
    "        while current:        \n",
    "            stack.append(current)\n",
    "            current = current.left\n",
    "        current = stack.pop()\n",
    "        print(current.value, end=\" \")\n",
    "        current = current.right\n",
    "\n",
    "def postorder_itr(root):\n",
    "    if root is None:\n",
    "        return\n",
    "    stack1 = [root]\n",
    "    stack2 = []\n",
    "    while stack1:\n",
    "        node = stack1.pop()\n",
    "        stack2.append(node)\n",
    "        if node.left:\n",
    "            stack1.append(node.left)\n",
    "        if node.right:\n",
    "            stack1.append(node.right)\n",
    "    while stack2:\n",
    "        print(stack2.pop().value, end=\" \")\n",
    "\n",
    "root = Tree('A')\n",
    "root.left = Tree('B')\n",
    "root.right = Tree('C')\n",
    "root.left.left = Tree('D')\n",
    "root.left.right = Tree('E')\n",
    "root.right.right = Tree('F')\n",
    "\n",
    "print(\"PreOrder Traversal:\")\n",
    "preorder_itr(root)\n",
    "print(\"\\nInOrder Traversal:\")\n",
    "inorder_itr(root)\n",
    "print(\"\\nPostOrder Traversal:\")\n",
    "postorder_itr(root)\n"
   ]
  }
 ],
 "metadata": {
  "kernelspec": {
   "display_name": "base",
   "language": "python",
   "name": "python3"
  },
  "language_info": {
   "codemirror_mode": {
    "name": "ipython",
    "version": 3
   },
   "file_extension": ".py",
   "mimetype": "text/x-python",
   "name": "python",
   "nbconvert_exporter": "python",
   "pygments_lexer": "ipython3",
   "version": "3.12.4"
  }
 },
 "nbformat": 4,
 "nbformat_minor": 5
}
