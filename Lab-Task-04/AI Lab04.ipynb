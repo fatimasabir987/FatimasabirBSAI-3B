{
 "cells": [
  {
   "cell_type": "markdown",
   "id": "e9cebe5e",
   "metadata": {},
   "source": [
    "### _**Name: Hafiza Fatima Sabir**_\n",
    "### _**Roll no: SU92-BSAI-F24-116**_\n",
    "### _**Lab task - 04**_"
   ]
  },
  {
   "cell_type": "markdown",
   "id": "17303737",
   "metadata": {},
   "source": [
    "#### _**1. Code for LUHN Algorithm**_  "
   ]
  },
  {
   "cell_type": "code",
   "execution_count": 21,
   "id": "020ac680",
   "metadata": {},
   "outputs": [
    {
     "name": "stdout",
     "output_type": "stream",
     "text": [
      "Valid number according to Luhn Algorithm\n"
     ]
    }
   ],
   "source": [
    "number = input(\"Enter a number: \")\n",
    "digits = [int(d) for d in number if d.isdigit()]\n",
    "digits.reverse()\n",
    "\n",
    "total = 0\n",
    "for i in range(len(digits)):\n",
    "    if i % 2 == 1:  \n",
    "        doubled = digits[i] * 2\n",
    "        if doubled > 9:\n",
    "            doubled -= 9\n",
    "        total += doubled\n",
    "    else:\n",
    "        total += digits[i]\n",
    "if total % 10 == 0:\n",
    "    print(\"Valid number according to Luhn Algorithm\")\n",
    "else:\n",
    "    print(\"Invalid number according to Luhn Algorithm\")\n"
   ]
  },
  {
   "cell_type": "markdown",
   "id": "b4693de6",
   "metadata": {},
   "source": [
    "#### _**2. Write a python program to remove punctuations from the given string?**_  "
   ]
  },
  {
   "cell_type": "code",
   "execution_count": null,
   "id": "d9bce5b2",
   "metadata": {},
   "outputs": [
    {
     "name": "stdout",
     "output_type": "stream",
     "text": [
      "Kuch Bhi Kuch Bhi\n"
     ]
    }
   ],
   "source": [
    "text = \"Kuch Bhi!, Kuch Bhi?\"\n",
    "text = input(\"Enter sentence: \")\n",
    "punctuations = \"~`@!?,.;:'\\\"-()[]{}*^#$&%=\"\n",
    "\n",
    "removes_strings = \"\"\n",
    "for char in text:\n",
    "    if char not in punctuations:\n",
    "        removes_strings += char\n",
    "\n",
    "print(removes_strings)\n"
   ]
  },
  {
   "cell_type": "markdown",
   "id": "e7c789a4",
   "metadata": {},
   "source": [
    "#### _**3.\tWrite a python program to sort the sentence in alphabetical order?**_\n",
    " \n"
   ]
  },
  {
   "cell_type": "code",
   "execution_count": 6,
   "id": "699403c7",
   "metadata": {},
   "outputs": [
    {
     "name": "stdout",
     "output_type": "stream",
     "text": [
      "The Alphabetic order of the letters in 'My Name Is Fatima' is:\n",
      "aaaeFIiMmmNsty\n"
     ]
    }
   ],
   "source": [
    "text = \"My Name Is Fatima\"\n",
    "letters = list(text.replace(\" \", \"\"))\n",
    "\n",
    "n = len(letters)\n",
    "for i in range(n):\n",
    "    for j in range(0, n-i-1):\n",
    "        if letters[j].lower() > letters[j+1].lower():  \n",
    "            letters[j], letters[j+1] = letters[j+1], letters[j]\n",
    "\n",
    "sorted_letters = \"\".join(letters)\n",
    "print(f\"The Alphabetic order of the letters in '{text}' is:\")\n",
    "print(sorted_letters)"
   ]
  }
 ],
 "metadata": {
  "kernelspec": {
   "display_name": "base",
   "language": "python",
   "name": "python3"
  },
  "language_info": {
   "codemirror_mode": {
    "name": "ipython",
    "version": 3
   },
   "file_extension": ".py",
   "mimetype": "text/x-python",
   "name": "python",
   "nbconvert_exporter": "python",
   "pygments_lexer": "ipython3",
   "version": "3.12.4"
  }
 },
 "nbformat": 4,
 "nbformat_minor": 5
}
