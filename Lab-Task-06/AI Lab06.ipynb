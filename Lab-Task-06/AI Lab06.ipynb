{
 "cells": [
  {
   "cell_type": "markdown",
   "id": "bd9a65b9",
   "metadata": {},
   "source": [
    "### _**Name: Hafiza Fatima Sabir**_\n",
    "### _**Roll no: SU92-BSAI-F24-116**_\n",
    "### _**Lab task - 06**_"
   ]
  },
  {
   "cell_type": "markdown",
   "id": "8efbb115",
   "metadata": {},
   "source": [
    "**_1. BFS without Queue & without Node_**"
   ]
  },
  {
   "cell_type": "code",
   "execution_count": 1,
   "id": "52da4c2c",
   "metadata": {},
   "outputs": [
    {
     "name": "stdout",
     "output_type": "stream",
     "text": [
      "BFS Traversal (without queue & node):\n",
      "A B C D E F "
     ]
    }
   ],
   "source": [
    "def bfs_list(myGraph, startPoint):\n",
    "    seen = [startPoint]      \n",
    "    lst = [startPoint]    \n",
    "    while lst:\n",
    "        curr = lst[0]        \n",
    "        print(curr, end=\" \")\n",
    "        lst = lst[1:]       \n",
    "        for i in myGraph[curr]:\n",
    "            if i not in seen:\n",
    "                seen.append(i)\n",
    "                lst.append(i)\n",
    "Graph = {\n",
    "    'A': ['B', 'C'],\n",
    "    'B': ['D', 'E'],\n",
    "    'C': ['F'],\n",
    "    'D': [],\n",
    "    'E': ['F'],\n",
    "    'F': []\n",
    "}\n",
    "\n",
    "print(\"BFS Traversal (without queue & node):\")\n",
    "bfs_list(Graph, 'A')"
   ]
  },
  {
   "cell_type": "markdown",
   "id": "ddaf9e84",
   "metadata": {},
   "source": [
    "**_2. BFS with Queue & Node_**"
   ]
  },
  {
   "cell_type": "code",
   "execution_count": 2,
   "id": "1e80bd0f",
   "metadata": {},
   "outputs": [
    {
     "name": "stdout",
     "output_type": "stream",
     "text": [
      "\n",
      "BFS Traversal (with queue & node):\n",
      "A B C D E F "
     ]
    }
   ],
   "source": [
    "class Node:\n",
    "    def __init__(self, val):\n",
    "        self.data = val\n",
    "        self.neigh = []\n",
    "\n",
    "def bfs_queue(startNode):\n",
    "    visited = []\n",
    "    q = [startNode]  \n",
    "\n",
    "    while q:\n",
    "        curr = q[0] \n",
    "        q = q[1:]    \n",
    "        if curr not in visited:\n",
    "            print(curr.data, end=\" \")\n",
    "            visited.append(curr)\n",
    "            for i in curr.neigh:\n",
    "                if i not in visited:\n",
    "                    q.append(i)\n",
    "\n",
    "A = Node('A')\n",
    "B = Node('B')\n",
    "C = Node('C')\n",
    "D = Node('D')\n",
    "E = Node('E')\n",
    "F = Node('F')\n",
    "\n",
    "A.neigh = [B, C]\n",
    "B.neigh = [D, E]\n",
    "C.neigh = [F]\n",
    "E.neigh = [F]\n",
    "\n",
    "print(\"\\nBFS Traversal (with queue & node):\")\n",
    "bfs_queue(A)\n"
   ]
  }
 ],
 "metadata": {
  "kernelspec": {
   "display_name": "base",
   "language": "python",
   "name": "python3"
  },
  "language_info": {
   "codemirror_mode": {
    "name": "ipython",
    "version": 3
   },
   "file_extension": ".py",
   "mimetype": "text/x-python",
   "name": "python",
   "nbconvert_exporter": "python",
   "pygments_lexer": "ipython3",
   "version": "3.12.4"
  }
 },
 "nbformat": 4,
 "nbformat_minor": 5
}
